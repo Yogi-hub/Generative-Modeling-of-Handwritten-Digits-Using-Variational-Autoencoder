{
 "cells": [
  {
   "cell_type": "code",
   "execution_count": 1,
   "id": "8fe6fccf",
   "metadata": {},
   "outputs": [],
   "source": [
    "import torch\n",
    "import torch.nn as nn\n",
    "import torch.nn.functional as F\n",
    "import torch.optim as optim\n",
    "from torchvision import datasets, transforms\n",
    "import torchvision.utils as vutils\n",
    "from torch.utils.data import DataLoader, random_split\n",
    "import matplotlib.pyplot as plt\n",
    "import os\n",
    "from tqdm import tqdm\n",
    "from copy import deepcopy\n",
    "\n",
    "from vae import VAE, train_vae, reparameterize "
   ]
  },
  {
   "cell_type": "code",
   "execution_count": 2,
   "id": "c55128ce",
   "metadata": {},
   "outputs": [
    {
     "name": "stdout",
     "output_type": "stream",
     "text": [
      "cuda\n"
     ]
    }
   ],
   "source": [
    "device = torch.device(\"cuda\" if torch.cuda.is_available() else \"cpu\")\n",
    "print(device)"
   ]
  },
  {
   "cell_type": "markdown",
   "id": "78be2228",
   "metadata": {},
   "source": [
    "### Data preparation"
   ]
  },
  {
   "cell_type": "code",
   "execution_count": 4,
   "id": "3595c7d2",
   "metadata": {},
   "outputs": [
    {
     "data": {
      "image/png": "[encoded data removed]",
      "text/plain": [
       "<Figure size 1500x300 with 5 Axes>"
      ]
     },
     "metadata": {},
     "output_type": "display_data"
    }
   ],
   "source": [
    "# Get current working directory\n",
    "DATA_DIR = os.path.join(os.getcwd(), 'datasets', 'mnist')\n",
    "\n",
    "transform = transforms.Compose([\n",
    "    transforms.ToTensor(),  # Converts to [0, 1] range\n",
    "])\n",
    "\n",
    "dataset = datasets.MNIST(root=DATA_DIR, train=True, download=True, transform=transform)\n",
    "test_dataset = datasets.MNIST(root=DATA_DIR, train=False, transform=transform)\n",
    "\n",
    "# Split training into training and validation\n",
    "train_dataset, val_dataset = random_split(dataset, [50000, 10000])\n",
    "\n",
    "train_loader = DataLoader(train_dataset, batch_size=128, shuffle=True)\n",
    "val_loader = DataLoader(val_dataset, batch_size=128)\n",
    "test_loader = DataLoader(test_dataset, batch_size=128);\n",
    "\n",
    "# Visaulize some samples from training set\n",
    "plt.figure(figsize=(15, 3))\n",
    "\n",
    "# Print the first few images in a row\n",
    "for i, (image, label) in enumerate(train_loader):\n",
    "    if i < 5:  # Print the first 5 samples\n",
    "        plt.subplot(1, 5, i + 1)\n",
    "        plt.imshow(image[0].squeeze(), cmap='gray')\n",
    "        plt.title(f\"Label: {label[0].item()}\")\n",
    "        plt.axis('off')\n",
    "    else:\n",
    "        break  # Exit the loop after printing 5 samples\n",
    "\n",
    "plt.tight_layout()\n",
    "plt.show()"
   ]
  },
  {
   "cell_type": "markdown",
   "id": "a56c05ee",
   "metadata": {},
   "source": [
    "### 1a. Model setup"
   ]
  },
  {
   "cell_type": "code",
   "execution_count": 6,
   "id": "ec499803",
   "metadata": {},
   "outputs": [],
   "source": [
    "latent_dim = 50\n",
    "model = VAE(latent_dim=latent_dim).to(device)"
   ]
  },
  {
   "cell_type": "markdown",
   "id": "8b37c9e0",
   "metadata": {},
   "source": [
    "### 1b. Model training"
   ]
  },
  {
   "cell_type": "markdown",
   "id": "2705f145",
   "metadata": {},
   "source": [
    "##### Define epochs and optimizer"
   ]
  },
  {
   "cell_type": "code",
   "execution_count": 7,
   "id": "088135c4",
   "metadata": {},
   "outputs": [],
   "source": [
    "epochs = 100\n",
    "learning_rate = 1e-3\n",
    "optimizer = torch.optim.Adam(model.parameters(), lr=learning_rate)"
   ]
  },
  {
   "cell_type": "code",
   "execution_count": null,
   "id": "4eadc022",
   "metadata": {},
   "outputs": [
    {
     "name": "stdout",
     "output_type": "stream",
     "text": [
      "Epoch 1, Training Loss (ELBO): 935.53, Validation Loss (ELBO): 1459.25\n",
      "Epoch 2, Training Loss (ELBO): 1842.51, Validation Loss (ELBO): 2070.65\n",
      "Epoch 3, Training Loss (ELBO): 2190.67, Validation Loss (ELBO): 2346.35\n",
      "Epoch 4, Training Loss (ELBO): 2362.19, Validation Loss (ELBO): 2570.07\n",
      "Epoch 5, Training Loss (ELBO): 2532.10, Validation Loss (ELBO): 2809.39\n",
      "Epoch 6, Training Loss (ELBO): 2685.31, Validation Loss (ELBO): 2606.36\n",
      "Epoch 7, Training Loss (ELBO): 2784.60, Validation Loss (ELBO): 3070.15\n",
      "Epoch 8, Training Loss (ELBO): 2826.94, Validation Loss (ELBO): 3127.86\n",
      "Epoch 9, Training Loss (ELBO): 2925.19, Validation Loss (ELBO): 3111.68\n",
      "Epoch 10, Training Loss (ELBO): 2989.92, Validation Loss (ELBO): 2335.86\n",
      "Epoch 11, Training Loss (ELBO): 3011.11, Validation Loss (ELBO): 2902.04\n",
      "Epoch 12, Training Loss (ELBO): 3119.78, Validation Loss (ELBO): 3048.07\n",
      "Epoch 13, Training Loss (ELBO): 3088.15, Validation Loss (ELBO): 3052.78\n",
      "Epoch 14, Training Loss (ELBO): 3138.25, Validation Loss (ELBO): 3140.01\n",
      "Epoch 15, Training Loss (ELBO): 3144.83, Validation Loss (ELBO): 2787.56\n",
      "Epoch 16, Training Loss (ELBO): 3218.67, Validation Loss (ELBO): 3482.25\n",
      "Epoch 17, Training Loss (ELBO): 3198.30, Validation Loss (ELBO): 3403.21\n",
      "Epoch 18, Training Loss (ELBO): 3260.55, Validation Loss (ELBO): 3605.38\n",
      "Epoch 19, Training Loss (ELBO): 3263.95, Validation Loss (ELBO): 3346.30\n",
      "Epoch 20, Training Loss (ELBO): 3320.17, Validation Loss (ELBO): 2120.54\n",
      "Epoch 21, Training Loss (ELBO): 3281.31, Validation Loss (ELBO): 3148.47\n",
      "Epoch 22, Training Loss (ELBO): 3404.70, Validation Loss (ELBO): 3581.11\n",
      "Epoch 23, Training Loss (ELBO): 3440.67, Validation Loss (ELBO): 3640.81\n",
      "Epoch 24, Training Loss (ELBO): 3245.31, Validation Loss (ELBO): 2875.32\n",
      "Epoch 25, Training Loss (ELBO): 3316.36, Validation Loss (ELBO): 3241.97\n",
      "Epoch 26, Training Loss (ELBO): 3418.65, Validation Loss (ELBO): 3371.58\n",
      "Epoch 27, Training Loss (ELBO): 3395.69, Validation Loss (ELBO): 3726.42\n",
      "Epoch 28, Training Loss (ELBO): 3409.97, Validation Loss (ELBO): 3754.27\n",
      "Epoch 29, Training Loss (ELBO): 3474.30, Validation Loss (ELBO): 3434.06\n",
      "Epoch 30, Training Loss (ELBO): 3501.31, Validation Loss (ELBO): 3787.54\n",
      "Epoch 31, Training Loss (ELBO): 3393.68, Validation Loss (ELBO): 3687.87\n",
      "Epoch 32, Training Loss (ELBO): 3421.51, Validation Loss (ELBO): 3627.95\n",
      "Epoch 33, Training Loss (ELBO): 3398.49, Validation Loss (ELBO): 3377.62\n",
      "Epoch 34, Training Loss (ELBO): 3410.71, Validation Loss (ELBO): 3420.93\n",
      "Epoch 35, Training Loss (ELBO): 3468.28, Validation Loss (ELBO): 3766.31\n",
      "Epoch 36, Training Loss (ELBO): 3399.02, Validation Loss (ELBO): 3756.62\n",
      "Epoch 37, Training Loss (ELBO): 3451.28, Validation Loss (ELBO): 2807.20\n",
      "Epoch 38, Training Loss (ELBO): 3397.77, Validation Loss (ELBO): 3457.61\n",
      "Epoch 39, Training Loss (ELBO): 3384.39, Validation Loss (ELBO): 3648.17\n",
      "Epoch 40, Training Loss (ELBO): 3555.71, Validation Loss (ELBO): 3142.47\n",
      "Epoch 41, Training Loss (ELBO): 3499.86, Validation Loss (ELBO): 3672.15\n",
      "Epoch 42, Training Loss (ELBO): 3652.45, Validation Loss (ELBO): 3908.53\n",
      "Epoch 43, Training Loss (ELBO): 3434.40, Validation Loss (ELBO): 3870.22\n",
      "Epoch 44, Training Loss (ELBO): 3542.36, Validation Loss (ELBO): 3892.90\n",
      "Epoch 45, Training Loss (ELBO): 3487.57, Validation Loss (ELBO): 3367.55\n",
      "Epoch 46, Training Loss (ELBO): 3605.13, Validation Loss (ELBO): 3876.64\n"
     ]
    }
   ],
   "source": [
    "model, train_losses, val_losses = train_vae(\n",
    "    model,\n",
    "    train_loader,\n",
    "    val_loader,\n",
    "    optimizer = optimizer,\n",
    "    device = device,\n",
    "    epochs=epochs,\n",
    "    patience=None   # No early stopping\n",
    "    )"
   ]
  },
  {
   "cell_type": "markdown",
   "id": "12f7609f",
   "metadata": {},
   "source": [
    "#### Plot training and validation loss"
   ]
  },
  {
   "cell_type": "code",
   "execution_count": null,
   "id": "fa7c50bf",
   "metadata": {},
   "outputs": [
    {
     "ename": "NameError",
     "evalue": "name 'train_losses' is not defined",
     "output_type": "error",
     "traceback": [
      "\u001b[1;31m---------------------------------------------------------------------------\u001b[0m",
      "\u001b[1;31mNameError\u001b[0m                                 Traceback (most recent call last)",
      "Cell \u001b[1;32mIn[9], line 1\u001b[0m\n\u001b[1;32m----> 1\u001b[0m plt\u001b[38;5;241m.\u001b[39mplot(train_losses, label\u001b[38;5;241m=\u001b[39m\u001b[38;5;124m'\u001b[39m\u001b[38;5;124mTrain\u001b[39m\u001b[38;5;124m'\u001b[39m)\n\u001b[0;32m      2\u001b[0m plt\u001b[38;5;241m.\u001b[39mplot(val_losses, label\u001b[38;5;241m=\u001b[39m\u001b[38;5;124m'\u001b[39m\u001b[38;5;124mValidation\u001b[39m\u001b[38;5;124m'\u001b[39m)\n\u001b[0;32m      3\u001b[0m plt\u001b[38;5;241m.\u001b[39mxlabel(\u001b[38;5;124m'\u001b[39m\u001b[38;5;124mEpoch\u001b[39m\u001b[38;5;124m'\u001b[39m)\n",
      "\u001b[1;31mNameError\u001b[0m: name 'train_losses' is not defined"
     ]
    }
   ],
   "source": [
    "plt.plot(train_losses, label='Train')\n",
    "plt.plot(val_losses, label='Validation')\n",
    "plt.xlabel('Epoch')\n",
    "plt.ylabel('ELBO')  # clearer axis label\n",
    "plt.title('ELBO vs Epochs')\n",
    "plt.legend()\n",
    "plt.grid(True)\n",
    "plt.tight_layout()\n",
    "plt.savefig(\"negative_elbo_curve.png\", dpi=300)\n",
    "plt.show()"
   ]
  },
  {
   "cell_type": "markdown",
   "id": "b2e6c953",
   "metadata": {},
   "source": [
    "### 1c. Stopping criteria"
   ]
  },
  {
   "cell_type": "code",
   "execution_count": 35,
   "id": "ead0eae7",
   "metadata": {},
   "outputs": [
    {
     "name": "stdout",
     "output_type": "stream",
     "text": [
      "Epoch 1, Training Loss (ELBO): 2275.79, Validation Loss (ELBO): 2418.83\n",
      "Epoch 2, Training Loss (ELBO): 2301.15, Validation Loss (ELBO): 2356.98\n",
      "Epoch 3, Training Loss (ELBO): 2242.37, Validation Loss (ELBO): 2280.16\n",
      "Epoch 4, Training Loss (ELBO): 2342.48, Validation Loss (ELBO): 2034.17\n",
      "Epoch 5, Training Loss (ELBO): 2276.84, Validation Loss (ELBO): 1968.18\n",
      "Epoch 6, Training Loss (ELBO): 2280.09, Validation Loss (ELBO): 2391.08\n",
      "Early stopping.\n"
     ]
    }
   ],
   "source": [
    "patience = 5  # Early stopping criteria\n",
    "epochs = 100\n",
    "model, train_losses, val_losses = train_vae(\n",
    "    model,\n",
    "    train_loader,\n",
    "    val_loader,\n",
    "    optimizer,\n",
    "    device,\n",
    "    epochs=epochs,\n",
    "    patience=5  # Enable early stopping\n",
    ")\n",
    "torch.save(model.state_dict(), \"best_model.pt\")"
   ]
  },
  {
   "cell_type": "markdown",
   "id": "4ffefbfd",
   "metadata": {},
   "source": [
    "### 1d. Model testing"
   ]
  },
  {
   "cell_type": "markdown",
   "id": "6f031ebe",
   "metadata": {},
   "source": [
    "#### 1. Parameters of model"
   ]
  },
  {
   "cell_type": "code",
   "execution_count": null,
   "id": "6fd49601",
   "metadata": {},
   "outputs": [],
   "source": [
    "device = torch.device(\"cuda\" if torch.cuda.is_available() else \"cpu\")\n",
    "\n",
    "# Instantiate and load the model\n",
    "model = VAE(latent_dim=latent_dim).to(device)\n",
    "model.load_state_dict(torch.load(\"best_model.pt\", map_location=device, weights_only=True))\n",
    "\n",
    "# Set the model to evaluation mode\n",
    "model.eval()\n",
    "\n",
    "# Generate Reconstruction Grid\n",
    "with torch.no_grad():\n",
    "    for x, _ in test_loader:\n",
    "        x = x.to(device)[:32]\n",
    "        x_recon, _, _, _, _ = model(x)\n",
    "        x_recon = torch.clamp(x_recon, 0, 1)\n",
    "        break\n",
    "\n",
    "grid_original = vutils.make_grid(x.cpu(), nrow=8, pad_value=1)\n",
    "grid_recon = vutils.make_grid(x_recon.cpu(), nrow=8, pad_value=1)\n",
    "\n",
    "fig, axs = plt.subplots(2, 1, figsize=(8, 8))\n",
    "axs[0].imshow(grid_original.permute(1, 2, 0), cmap='gray')\n",
    "axs[0].axis('off')\n",
    "axs[0].set_title(\"Original Test Images\")\n",
    "\n",
    "axs[1].imshow(grid_recon.permute(1, 2, 0), cmap='gray')\n",
    "axs[1].axis('off')\n",
    "axs[1].set_title(\"Reconstructed Images\")\n",
    "\n",
    "plt.tight_layout()\n",
    "plt.savefig(\"reconstruction_grid.png\", dpi=300)\n",
    "plt.show()"
   ]
  },
  {
   "cell_type": "markdown",
   "id": "46447b1e",
   "metadata": {},
   "source": [
    "#### 2. Drawing sample from q(Z|x)"
   ]
  },
  {
   "cell_type": "code",
   "execution_count": 39,
   "id": "432d97cb",
   "metadata": {},
   "outputs": [],
   "source": [
    "with torch.no_grad():\n",
    "    for x, _ in test_loader:\n",
    "        x = x.to(device)[:32]\n",
    "        mu, logvar = model.encoder(x)\n",
    "        break\n",
    "z = reparameterize(mu, logvar).to(device)"
   ]
  },
  {
   "cell_type": "markdown",
   "id": "406e262a",
   "metadata": {},
   "source": [
    "#### 3.  Parameters of the distribu p(X|z)"
   ]
  },
  {
   "cell_type": "code",
   "execution_count": 42,
   "id": "b55e4cc4",
   "metadata": {},
   "outputs": [],
   "source": [
    "model.to(device)\n",
    "mu_x, logvar_x = model.decoder(z)"
   ]
  },
  {
   "cell_type": "markdown",
   "id": "0aab07a2",
   "metadata": {},
   "source": [
    "#### 4. Sample an image x′ from p(X|z)"
   ]
  },
  {
   "cell_type": "code",
   "execution_count": null,
   "id": "ed869bae",
   "metadata": {},
   "outputs": [],
   "source": [
    "model.eval()\n",
    "with torch.no_grad():\n",
    "    z = torch.randn(32, latent_dim).to(device)\n",
    "    mu_x, logvar_x = model.decoder(z)\n",
    "    x_sampled = reparameterize(mu_x, logvar_x)\n",
    "    x_sampled = torch.clamp(x_sampled, 0, 1)\n",
    "\n",
    "grid_samples = vutils.make_grid(x_sampled.cpu(), nrow=8, pad_value=1)\n",
    "\n",
    "plt.figure(figsize=(8, 4))\n",
    "plt.imshow(grid_samples.permute(1, 2, 0), cmap='gray')\n",
    "plt.axis('off')\n",
    "plt.title(\"Samples generated from Prior\")\n",
    "plt.tight_layout()\n",
    "plt.savefig(\"samples_grid.png\", dpi=300)\n",
    "plt.show()"
   ]
  }
 ],
 "metadata": {
  "kernelspec": {
   "display_name": "experiments",
   "language": "python",
   "name": "python3"
  },
  "language_info": {
   "codemirror_mode": {
    "name": "ipython",
    "version": 3
   },
   "file_extension": ".py",
   "mimetype": "text/x-python",
   "name": "python",
   "nbconvert_exporter": "python",
   "pygments_lexer": "ipython3",
   "version": "3.11.6"
  }
 },
 "nbformat": 4,
 "nbformat_minor": 5
}
